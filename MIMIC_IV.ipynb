{
 "cells": [
  {
   "cell_type": "code",
   "execution_count": null,
   "id": "2e6dcc01-4ff2-402f-9393-e9240011dd77",
   "metadata": {
    "id": "2e6dcc01-4ff2-402f-9393-e9240011dd77",
    "outputId": "7f339b85-a1bd-4e5f-c03a-b5731e944192"
   },
   "outputs": [],
   "source": [
    "pip install pandas"
   ]
  },
  {
   "cell_type": "code",
   "execution_count": null,
   "id": "866b3148-bee3-43f7-b1de-37f13977c6cc",
   "metadata": {
    "id": "866b3148-bee3-43f7-b1de-37f13977c6cc",
    "outputId": "8be37f3a-2d16-4394-eccf-afe835f1f182"
   },
   "outputs": [],
   "source": [
    "import os\n",
    "import pandas as pd\n",
    "\n",
    "# Path to the main MIMIC-IV folder\n",
    "data_path = \"MIMIC_IV\"\n",
    "\n",
    "# Find all CSV files in the dataset\n",
    "csv_files = {}\n",
    "for root, _, files in os.walk(data_path):\n",
    "    for file in files:\n",
    "        if file.endswith(\".csv\"):\n",
    "            file_path = os.path.join(root, file)\n",
    "            csv_files[file] = pd.read_csv(file_path)\n",
    "\n",
    "# Print loaded files\n",
    "print(f\"Loaded {len(csv_files)} CSV files:\")\n",
    "print(csv_files.keys())"
   ]
  },
  {
   "cell_type": "code",
   "execution_count": null,
   "id": "c9e3ba28-9f65-4070-88db-246bf2642257",
   "metadata": {
    "id": "c9e3ba28-9f65-4070-88db-246bf2642257"
   },
   "outputs": [],
   "source": [
    "import pandas as pd\n",
    "\n",
    "# Replace these with the actual file paths for your CSV files.\n",
    "edstays = pd.read_csv(\"MIMIC_IV_datasets/edstays.csv\")\n",
    "diagnosis = pd.read_csv(\"MIMIC_IV_datasets/diagnosis.csv\")\n",
    "medrecon = pd.read_csv(\"MIMIC_IV_datasets/medrecon.csv\")\n",
    "pyxis = pd.read_csv(\"MIMIC_IV_datasets/pyxis.csv\")\n",
    "triage = pd.read_csv(\"MIMIC_IV_datasets/triage.csv\")\n",
    "vitalsign = pd.read_csv(\"MIMIC_IV_datasets/vitalsign.csv\")"
   ]
  },
  {
   "cell_type": "code",
   "execution_count": null,
   "id": "e1fe6d08-b0e9-4837-a2fa-dac475c1feea",
   "metadata": {
    "id": "e1fe6d08-b0e9-4837-a2fa-dac475c1feea",
    "outputId": "d7b4f44f-ca50-4c74-8386-3759fab4426c"
   },
   "outputs": [],
   "source": [
    "print(\"EDStays:\", edstays.shape)\n",
    "print(\"Diagnosis:\", diagnosis.shape)\n",
    "print(\"MedRecon:\", medrecon.shape)\n",
    "print(\"Pyxis:\", pyxis.shape)\n",
    "print(\"Triage:\", triage.shape)\n",
    "print(\"VitalSign:\", vitalsign.shape)"
   ]
  },
  {
   "cell_type": "markdown",
   "id": "21bba3bb-fad0-4a61-a89d-b288f338335f",
   "metadata": {
    "id": "21bba3bb-fad0-4a61-a89d-b288f338335f"
   },
   "source": [
    "**Medrecon Data pre-processing**"
   ]
  },
  {
   "cell_type": "code",
   "execution_count": null,
   "id": "2530685b-6872-4137-b0a6-ddfccfb03d38",
   "metadata": {
    "id": "2530685b-6872-4137-b0a6-ddfccfb03d38",
    "outputId": "589c580b-b7a7-4a51-eff1-187dcd489cbc"
   },
   "outputs": [],
   "source": [
    "import pandas as pd\n",
    "\n",
    "# Count the rows where gsn is 0\n",
    "zero_gsn_count = medrecon[medrecon['gsn'] == 0].shape[0]\n",
    "print(\"Number of rows with gsn value 0:\", zero_gsn_count)\n"
   ]
  },
  {
   "cell_type": "code",
   "execution_count": null,
   "id": "75347a6f-9a35-45b4-9dd9-3fab823680de",
   "metadata": {
    "id": "75347a6f-9a35-45b4-9dd9-3fab823680de"
   },
   "outputs": [],
   "source": [
    "import numpy as np\n",
    "\n",
    "medrecon['gsn'] = medrecon['gsn'].replace(0, np.nan)\n",
    "medrecon['ndc'] = medrecon['ndc'].replace(0, np.nan)"
   ]
  },
  {
   "cell_type": "markdown",
   "id": "4b1d9865-73df-46b0-bf00-e19b353d6481",
   "metadata": {
    "id": "4b1d9865-73df-46b0-bf00-e19b353d6481"
   },
   "source": [
    "**Converting to Lower-case to make standard format**"
   ]
  },
  {
   "cell_type": "code",
   "execution_count": null,
   "id": "83466140-ca4a-4ed8-b6bb-cbe8a29a6602",
   "metadata": {
    "id": "83466140-ca4a-4ed8-b6bb-cbe8a29a6602"
   },
   "outputs": [],
   "source": [
    "medrecon['name'] = medrecon['name'].str.strip().str.lower()"
   ]
  },
  {
   "cell_type": "code",
   "execution_count": null,
   "id": "011d8ec9-5b1e-48bb-abac-69c3c33c25ae",
   "metadata": {
    "id": "011d8ec9-5b1e-48bb-abac-69c3c33c25ae"
   },
   "outputs": [],
   "source": [
    "medrecon['charttime'] = pd.to_datetime(medrecon['charttime'])"
   ]
  },
  {
   "cell_type": "code",
   "execution_count": null,
   "id": "77dc3ba8-5145-4347-81f8-ec3a471da2b4",
   "metadata": {
    "id": "77dc3ba8-5145-4347-81f8-ec3a471da2b4",
    "outputId": "514df4d5-5106-48c5-d1d4-9283715e85ab"
   },
   "outputs": [],
   "source": [
    "medrecon.head()"
   ]
  },
  {
   "cell_type": "markdown",
   "id": "ff010fc6-6a0e-4f3f-90c6-f3ee2dbc4740",
   "metadata": {
    "id": "ff010fc6-6a0e-4f3f-90c6-f3ee2dbc4740"
   },
   "source": [
    "**Edstays data pre-processing**"
   ]
  },
  {
   "cell_type": "code",
   "execution_count": null,
   "id": "ee0a6f18-938e-40cd-b6fa-d1b8ffff42a7",
   "metadata": {
    "id": "ee0a6f18-938e-40cd-b6fa-d1b8ffff42a7",
    "outputId": "7d99b999-8ef5-4975-c189-c208f5cab33e"
   },
   "outputs": [],
   "source": [
    "edstays.head()"
   ]
  },
  {
   "cell_type": "code",
   "execution_count": null,
   "id": "fbb1dfb6-be7c-4720-b55a-d62576d71eb4",
   "metadata": {
    "id": "fbb1dfb6-be7c-4720-b55a-d62576d71eb4",
    "outputId": "531159dc-35f7-43a1-c882-8069bed1669a"
   },
   "outputs": [],
   "source": [
    "diagnosis.head()"
   ]
  },
  {
   "cell_type": "code",
   "execution_count": null,
   "id": "8e59619c-53b9-44cb-a503-17fa2efe2cde",
   "metadata": {
    "id": "8e59619c-53b9-44cb-a503-17fa2efe2cde",
    "outputId": "6df4207d-dabf-4b2a-fc35-e94996332784"
   },
   "outputs": [],
   "source": [
    "pyxis.head()"
   ]
  },
  {
   "cell_type": "code",
   "execution_count": null,
   "id": "c1b16731-3cc7-4c4a-ba48-d19b85ac59ce",
   "metadata": {
    "id": "c1b16731-3cc7-4c4a-ba48-d19b85ac59ce",
    "outputId": "0f9e1d07-46d6-4c9b-fd17-3691c7024bb2"
   },
   "outputs": [],
   "source": [
    "triage.head()"
   ]
  },
  {
   "cell_type": "code",
   "execution_count": null,
   "id": "026324b4-409b-46b6-aca0-c05e3058d627",
   "metadata": {
    "id": "026324b4-409b-46b6-aca0-c05e3058d627",
    "outputId": "909e2524-b2fa-4802-ae44-22f757fdb91a"
   },
   "outputs": [],
   "source": [
    "merged_df1 = pd.merge(edstays, diagnosis, on=[\"subject_id\", \"stay_id\"], how=\"outer\")\n",
    "merged_df1.head()"
   ]
  },
  {
   "cell_type": "code",
   "execution_count": null,
   "id": "3289c7db-58f9-4584-8713-fe2c29c4b499",
   "metadata": {
    "id": "3289c7db-58f9-4584-8713-fe2c29c4b499",
    "outputId": "ad31b7de-a1e5-43bc-9d1b-8e74cc51b692"
   },
   "outputs": [],
   "source": [
    "merged_df2 = pd.merge(merged_df1, triage, on=[\"subject_id\", \"stay_id\"], how=\"outer\")\n",
    "merged_df2.head()"
   ]
  },
  {
   "cell_type": "code",
   "execution_count": null,
   "id": "81eaaf93-798f-401d-a40f-3e23c28fc87f",
   "metadata": {
    "id": "81eaaf93-798f-401d-a40f-3e23c28fc87f",
    "outputId": "fd775ecc-c117-4678-8534-46c10c9734ed"
   },
   "outputs": [],
   "source": [
    "final_df = pd.merge(merged_df2, medrecon, on=[\"subject_id\", \"stay_id\"], how=\"outer\")\n",
    "final_df.head()"
   ]
  },
  {
   "cell_type": "code",
   "execution_count": null,
   "id": "e36a21ec-f1db-406f-b6c7-cd12c4805870",
   "metadata": {
    "id": "e36a21ec-f1db-406f-b6c7-cd12c4805870",
    "outputId": "dd7e4e68-f20c-448b-9924-17bc7cae9b06"
   },
   "outputs": [],
   "source": [
    "final_df.shape"
   ]
  },
  {
   "cell_type": "code",
   "execution_count": null,
   "id": "e8ef5005-f68e-420f-97f2-fa658f2322f3",
   "metadata": {
    "id": "e8ef5005-f68e-420f-97f2-fa658f2322f3",
    "outputId": "43505757-fe1c-4227-f126-1782703a63d7"
   },
   "outputs": [],
   "source": [
    "final_df.columns"
   ]
  },
  {
   "cell_type": "code",
   "execution_count": null,
   "id": "7e411b5d-c8a3-44f1-8890-32ab3663f249",
   "metadata": {
    "id": "7e411b5d-c8a3-44f1-8890-32ab3663f249",
    "outputId": "e74bc6c3-d5e3-4abb-e293-cb585371b484"
   },
   "outputs": [],
   "source": [
    "# List of columns to drop\n",
    "columns_to_drop = [    'intime', 'outtime', 'race', 'ndc', 'etc_rn', 'etccode',\n",
    "                   'arrival_transport', 'disposition', 'icd_version', 'seq_num', 'pain', 'acuity', 'charttime']\n",
    "\n",
    "# Dropping the columns from the DataFrame\n",
    "df = final_df.drop(columns=columns_to_drop)\n",
    "\n",
    "df.head()"
   ]
  },
  {
   "cell_type": "code",
   "execution_count": null,
   "id": "be229522-1cdc-4e86-bb1e-b6a00a4f5c47",
   "metadata": {
    "id": "be229522-1cdc-4e86-bb1e-b6a00a4f5c47",
    "outputId": "0e232332-c1f3-4459-f947-16c735be4ac7"
   },
   "outputs": [],
   "source": [
    "df.shape"
   ]
  },
  {
   "cell_type": "code",
   "execution_count": null,
   "id": "de208b8c-6ec5-44df-8a0a-64e4c15db090",
   "metadata": {
    "id": "de208b8c-6ec5-44df-8a0a-64e4c15db090",
    "outputId": "2a993648-608d-4f28-c2f0-60c1af44a300"
   },
   "outputs": [],
   "source": [
    "df.columns"
   ]
  },
  {
   "cell_type": "code",
   "execution_count": null,
   "id": "590feacc-bc93-4e89-aedd-2ca84544b26a",
   "metadata": {
    "id": "590feacc-bc93-4e89-aedd-2ca84544b26a",
    "outputId": "4ce46c96-ab46-4a82-b394-06a44daf5fbd"
   },
   "outputs": [],
   "source": [
    "# Find unique ICD codes in the dataset\n",
    "unique_icd_codes = df['icd_code'].unique()\n",
    "\n",
    "# Display the unique ICD codes\n",
    "print(unique_icd_codes)\n",
    "\n"
   ]
  },
  {
   "cell_type": "code",
   "execution_count": null,
   "id": "f57a85c9-cc89-45ab-9172-c028a809dba1",
   "metadata": {
    "id": "f57a85c9-cc89-45ab-9172-c028a809dba1",
    "outputId": "091d4aae-9acd-4987-83b8-a9476b7d871f"
   },
   "outputs": [],
   "source": [
    "# Count the number of unique ICD codes\n",
    "num_unique_icd_codes = df['icd_code'].nunique()\n",
    "\n",
    "# Display the count\n",
    "print(f\"Number of unique ICD codes: {num_unique_icd_codes}\")\n"
   ]
  },
  {
   "cell_type": "code",
   "execution_count": null,
   "id": "36333927-3746-48d9-b35d-5482f7ee4c83",
   "metadata": {
    "id": "36333927-3746-48d9-b35d-5482f7ee4c83",
    "outputId": "67493ab2-2b05-4215-d666-5242f82f194a"
   },
   "outputs": [],
   "source": [
    "# Count the frequency of each ICD code\n",
    "icd_code_counts = df['icd_code'].value_counts()\n",
    "\n",
    "# Display the frequency of ICD codes\n",
    "print(icd_code_counts)\n"
   ]
  },
  {
   "cell_type": "code",
   "execution_count": null,
   "id": "f3b5f566-cbfc-4c4f-ae09-5ccd3012c3ba",
   "metadata": {
    "id": "f3b5f566-cbfc-4c4f-ae09-5ccd3012c3ba"
   },
   "outputs": [],
   "source": [
    "df['icd_category'] = df['icd_code'].str[:3]  # First 3 characters"
   ]
  },
  {
   "cell_type": "code",
   "execution_count": null,
   "id": "540efcf0-35ee-4a3b-be6e-dd34e4588118",
   "metadata": {
    "id": "540efcf0-35ee-4a3b-be6e-dd34e4588118",
    "outputId": "aab0d902-49ef-4018-be22-771321f97388"
   },
   "outputs": [],
   "source": [
    "df['icd_category']"
   ]
  },
  {
   "cell_type": "code",
   "execution_count": null,
   "id": "7e07ecd0-5e99-40ce-af4c-446106a9bdeb",
   "metadata": {
    "id": "7e07ecd0-5e99-40ce-af4c-446106a9bdeb",
    "outputId": "12e30310-f705-4e3f-d449-d8063fc1a37c"
   },
   "outputs": [],
   "source": [
    "df.head()"
   ]
  },
  {
   "cell_type": "code",
   "execution_count": null,
   "id": "ef334bc1-833c-4c32-9370-3ea46d747b54",
   "metadata": {
    "id": "ef334bc1-833c-4c32-9370-3ea46d747b54",
    "outputId": "18c7c6ae-6ea2-43b8-cb04-4228b86ddaa6"
   },
   "outputs": [],
   "source": [
    "df.shape"
   ]
  },
  {
   "cell_type": "code",
   "execution_count": null,
   "id": "59ee3c44-bf2e-4f91-ad01-e116de72c391",
   "metadata": {
    "id": "59ee3c44-bf2e-4f91-ad01-e116de72c391",
    "outputId": "8ec9ba22-613f-493c-bba1-5a20e086a3db"
   },
   "outputs": [],
   "source": [
    "df.to_csv(\"merged_mimic_IV.csv\", index=False)\n",
    "print(\"Merged data saved successfully!\")"
   ]
  },
  {
   "cell_type": "code",
   "execution_count": null,
   "id": "ce98e7a4-d36f-41e2-9b6e-62400b30a586",
   "metadata": {
    "id": "ce98e7a4-d36f-41e2-9b6e-62400b30a586",
    "outputId": "66e45463-5f6c-4954-e2f1-6f832d73a965"
   },
   "outputs": [],
   "source": [
    "import pandas as pd\n",
    "\n",
    "# Load your final dataset\n",
    "final_df = pd.read_csv(\"merged_mimic_IV.csv\")  # Replace with your actual file path\n",
    "\n",
    "# Display the first few rows\n",
    "final_df.head()\n"
   ]
  },
  {
   "cell_type": "code",
   "execution_count": null,
   "id": "1f46099b-e3cd-4cce-b28f-9392fce45154",
   "metadata": {
    "id": "1f46099b-e3cd-4cce-b28f-9392fce45154"
   },
   "outputs": [],
   "source": [
    "import pandas as pd\n",
    "\n",
    "column_names = [\"chapter\", \"subcode\", \"icd_code\", \"long_desc\", \"short_desc\", \"category\"]\n",
    "icd_df = pd.read_csv(\"ICD10codes.csv\", names=column_names, header=None)\n"
   ]
  },
  {
   "cell_type": "code",
   "execution_count": null,
   "id": "68947b17-2c3d-41db-bfc0-4695f8c7e8c2",
   "metadata": {
    "id": "68947b17-2c3d-41db-bfc0-4695f8c7e8c2",
    "outputId": "7fa1c4c8-e352-405e-8f77-39e530361edd"
   },
   "outputs": [],
   "source": [
    "icd_df.head()"
   ]
  },
  {
   "cell_type": "code",
   "execution_count": null,
   "id": "d1ed8688-3d63-442e-ace3-ef4bcf486b15",
   "metadata": {
    "id": "d1ed8688-3d63-442e-ace3-ef4bcf486b15",
    "outputId": "a74bc10e-23c5-4aac-a79a-1a9c745916d7"
   },
   "outputs": [],
   "source": [
    "icd_df.to_csv(\"icd_codes.csv\", index=False)\n",
    "print(\"icd codes with column names saved successfully!\")"
   ]
  },
  {
   "cell_type": "code",
   "execution_count": null,
   "id": "831e3b5c-cdc4-46ce-98cb-0916e2b6e538",
   "metadata": {},
   "outputs": [],
   "source": [
    "# Load your final dataset\n",
    "icd_df = pd.read_csv(\"icd_codes.csv\")  # Replace with your actual file path\n",
    "\n",
    "# Display the first few rows\n",
    "icd_df.head()"
   ]
  },
  {
   "cell_type": "code",
   "execution_count": null,
   "id": "9e32f6a8-3d45-419a-b7ea-08789076c0b5",
   "metadata": {
    "id": "9e32f6a8-3d45-419a-b7ea-08789076c0b5",
    "outputId": "bb19652a-8795-481c-cb37-cde3f088fc54"
   },
   "outputs": [],
   "source": [
    "# Merge the data on the icd_code column\n",
    "merged_df = final_df.merge(icd_df, on=\"icd_code\", how=\"left\")\n",
    "\n",
    "# Display a few rows to check the result\n",
    "merged_df.head()\n"
   ]
  },
  {
   "cell_type": "code",
   "execution_count": null,
   "id": "520a6583-1c48-4945-833e-322aa6867122",
   "metadata": {
    "id": "520a6583-1c48-4945-833e-322aa6867122",
    "outputId": "884008fa-d7d4-490c-a784-56435f7aee9e"
   },
   "outputs": [],
   "source": [
    "merged_df.columns"
   ]
  },
  {
   "cell_type": "code",
   "execution_count": null,
   "id": "10602541-f5ce-4a6b-9901-e93dbc7a2f1a",
   "metadata": {
    "id": "10602541-f5ce-4a6b-9901-e93dbc7a2f1a",
    "outputId": "b6613daa-c37b-42ff-ff2e-c33e813d8961"
   },
   "outputs": [],
   "source": [
    "# Count unique admissions (or rows) per ICD category\n",
    "grouped_by_icd_category = merged_df.groupby('icd_category').agg({\n",
    "    'hadm_id': 'nunique'  # or 'count' if you want the total rows per category\n",
    "}).rename(columns={'hadm_id': 'unique_admissions'})\n",
    "\n",
    "print(\"Grouped by ICD Category:\")\n",
    "grouped_by_icd_category\n"
   ]
  },
  {
   "cell_type": "code",
   "execution_count": null,
   "id": "3ae33399-186d-47ba-bf8c-d222c372b5a7",
   "metadata": {
    "id": "3ae33399-186d-47ba-bf8c-d222c372b5a7",
    "outputId": "b64f67fe-be54-4c75-c19e-e82e3f9ca51d"
   },
   "outputs": [],
   "source": [
    "# Group by chapter and count unique admissions\n",
    "grouped_by_chapter = merged_df.groupby('chapter').agg({'hadm_id': 'nunique'}).rename(columns={'hadm_id': 'unique_admissions'})\n",
    "\n",
    "# Sum of all grouped rows should equal the total number of rows in the DataFrame\n",
    "total_grouped_rows = grouped_by_chapter.sum()\n",
    "total_rows = merged_df.shape[0]\n",
    "\n",
    "print(\"Total rows in grouping:\", total_grouped_rows)\n",
    "print(\"Total rows in DataFrame:\", total_rows)"
   ]
  },
  {
   "cell_type": "code",
   "execution_count": null,
   "id": "be44e8c1-9d30-4bc9-bebe-3b65d1c38c5a",
   "metadata": {
    "id": "be44e8c1-9d30-4bc9-bebe-3b65d1c38c5a",
    "outputId": "2dbfeef8-621a-4f4d-8e60-cf1e67e87f30"
   },
   "outputs": [],
   "source": [
    "# Count rows where the chapter value is missing (NaN)\n",
    "missing_chapter_count = merged_df['chapter'].isnull().sum()\n",
    "\n",
    "# Count rows where the chapter value is an empty string (if applicable)\n",
    "empty_chapter_count = (merged_df['chapter'].astype(str).str.strip() == \"\").sum()\n",
    "\n",
    "print(\"Rows with missing chapter (NaN):\", missing_chapter_count)\n",
    "print(\"Rows with empty chapter:\", empty_chapter_count)\n"
   ]
  },
  {
   "cell_type": "code",
   "execution_count": null,
   "id": "e906c4cf-a04b-4c36-9550-03e6b062e1af",
   "metadata": {},
   "outputs": [],
   "source": [
    "empty_subject_id = (merged_df['subject_id']).isna().sum().sum()\n",
    "\n",
    "print(\"Rows with empty Subject_id:\", empty_subject_id)"
   ]
  },
  {
   "cell_type": "code",
   "execution_count": null,
   "id": "1624f9f1-9d8e-4629-970c-9e9acd998e6a",
   "metadata": {},
   "outputs": [],
   "source": [
    "missing_icd_code_count = merged_df['icd_code'].isnull().sum()\n",
    "\n",
    "empty_icd_code = (merged_df['icd_code'].astype(str).str.strip() == \"\").sum()\n",
    "\n",
    "print(\"Rows with missing icd_code (NaN):\", missing_icd_code_count)\n",
    "print(\"Rows with empty icd_code:\", empty_icd_code)"
   ]
  },
  {
   "cell_type": "code",
   "execution_count": null,
   "id": "9c376824-0667-4e71-b387-01c11d48f4c0",
   "metadata": {
    "id": "9c376824-0667-4e71-b387-01c11d48f4c0",
    "outputId": "a03a41f6-a75a-4fb2-baa4-b734d74d3a4e"
   },
   "outputs": [],
   "source": [
    "import pandas as pd\n",
    "\n",
    "def reformat_icd9(icd_str):\n",
    "\n",
    "    # If a dot is already present, return as is.\n",
    "    if '.' in icd_str:\n",
    "        return icd_str\n",
    "    # Remove any leading/trailing whitespace.\n",
    "    icd_str = icd_str.strip()\n",
    "    # For codes with 3 or more digits, insert a dot after the third digit.\n",
    "    if len(icd_str) > 2:\n",
    "        return icd_str[:3] + '.' + icd_str[3:]\n",
    "    else:\n",
    "        return icd_str\n",
    "\n",
    "def infer_icd_chapter(icd_code):\n",
    "    \"\"\"\n",
    "    Infers the ICD chapter (broad category) for a given ICD code,\n",
    "    handling both ICD-10 (alphabetic codes) and ICD-9 (numeric codes).\n",
    "    For ICD-9 codes without a decimal, the function inserts one before conversion.\n",
    "    \"\"\"\n",
    "    if pd.isna(icd_code):\n",
    "        return None\n",
    "\n",
    "    # Convert code to string and strip whitespace\n",
    "    icd_str = str(icd_code).strip()\n",
    "    if not icd_str:\n",
    "        return 'Other'\n",
    "\n",
    "    # Special handling: if code starts with \"R\" followed by digits, process the numeric part\n",
    "    if icd_str[0].upper() == 'R' and icd_str[1:].replace('.', '', 1).isdigit():\n",
    "        numeric_part = icd_str[1:]\n",
    "        # Optionally reformat the numeric part if needed (using your helper function)\n",
    "        icd_str_reformatted = reformat_icd9(numeric_part)\n",
    "        try:\n",
    "            code_num = float(icd_str_reformatted.split('.')[0])\n",
    "        except ValueError:\n",
    "            return 'Other'\n",
    "\n",
    "        # Use ICD-9 numeric ranges for categorization\n",
    "        if 1 <= code_num <= 139:\n",
    "            return 'Infectious and parasitic diseases'\n",
    "        elif 140 <= code_num <= 239:\n",
    "            return 'Neoplasms'\n",
    "        elif 240 <= code_num <= 279:\n",
    "            return 'Endocrine, nutritional and metabolic diseases'\n",
    "        elif 280 <= code_num <= 289:\n",
    "            return 'Diseases of the blood and blood-forming organs'\n",
    "        elif 290 <= code_num <= 319:\n",
    "            return 'Mental disorders'\n",
    "        elif 320 <= code_num <= 389:\n",
    "            return 'Diseases of the nervous system and sense organs'\n",
    "        elif 390 <= code_num <= 459:\n",
    "            return 'Diseases of the circulatory system'\n",
    "        elif 460 <= code_num <= 519:\n",
    "            return 'Diseases of the respiratory system'\n",
    "        elif 520 <= code_num <= 579:\n",
    "            return 'Diseases of the digestive system'\n",
    "        elif 580 <= code_num <= 629:\n",
    "            return 'Diseases of the genitourinary system'\n",
    "        elif 630 <= code_num <= 677:\n",
    "            return 'Complications of pregnancy, childbirth and the puerperium'\n",
    "        elif 680 <= code_num <= 709:\n",
    "            return 'Diseases of the skin and subcutaneous tissue'\n",
    "        elif 710 <= code_num <= 739:\n",
    "            return 'Diseases of the musculoskeletal system and connective tissue'\n",
    "        elif 740 <= code_num <= 759:\n",
    "            return 'Congenital anomalies'\n",
    "        elif 760 <= code_num <= 779:\n",
    "            return 'Certain conditions originating in the perinatal period'\n",
    "        elif 780 <= code_num <= 789:\n",
    "            if code_num == 780:\n",
    "                return \"General symptoms\"\n",
    "            elif code_num == 781:\n",
    "                return \"Symptoms involving nervous and musculoskeletal systems\"\n",
    "            elif code_num == 782:\n",
    "                return \"Symptoms involving skin and other integumentary tissue\"\n",
    "            elif code_num == 783:\n",
    "                return \"Symptoms concerning nutrition metabolism and development\"\n",
    "            elif code_num == 784:\n",
    "                return \"Symptoms involving head and neck\"\n",
    "            elif code_num == 785:\n",
    "                return \"Symptoms involving cardiovascular system\"\n",
    "            elif code_num == 786:\n",
    "                return \"Symptoms involving respiratory system and other chest symptoms\"\n",
    "            elif code_num == 787:\n",
    "                return \"Symptoms involving digestive system\"\n",
    "            elif code_num == 788:\n",
    "                return \"Symptoms involving urinary system\"\n",
    "            elif code_num == 789:\n",
    "                return \"Other symptoms involving abdomen and pelvis\"\n",
    "        elif 790 <= code_num <= 796:\n",
    "            if code_num == 790:\n",
    "                return \"Nonspecific findings on examination of blood\"\n",
    "            elif code_num == 791:\n",
    "                return \"Nonspecific findings on examination of urine\"\n",
    "            elif code_num == 792:\n",
    "                return \"Nonspecific abnormal findings in other body substances\"\n",
    "            elif code_num == 793:\n",
    "                return \"Nonspecific abnormal (findings) on radiological and other examination of body structure\"\n",
    "            elif code_num == 794:\n",
    "                return \"Nonspecific abnormal results of function studies\"\n",
    "            elif code_num == 795:\n",
    "                return \"Other and nonspecific abnormal cytological, histological, immunological, and dna test findings\"\n",
    "            elif code_num == 796:\n",
    "                return \"Other nonspecific abnormal findings\"\n",
    "        elif 797 <= code_num <= 799:\n",
    "            if code_num == 797:\n",
    "                return \"Senility without mention of psychosis\"\n",
    "            elif code_num == 798:\n",
    "                return \"Sudden death cause unknown\"\n",
    "            elif code_num == 799:\n",
    "                return \"Other ill-defined and unknown causes of morbidity and mortality\"\n",
    "        elif 800 <= code_num <= 999:\n",
    "            return 'Injury and poisoning'\n",
    "        else:\n",
    "            return 'Other'\n",
    "\n",
    "    # Check if it's ICD-10 (alphabetic)\n",
    "    if icd_str[0].isalpha():\n",
    "        mapping_icd10 = {\n",
    "            'A': 'Certain infectious and parasitic diseases',\n",
    "            'B': 'Certain infectious and parasitic diseases',\n",
    "            'C': 'Neoplasms',\n",
    "            'D': 'Neoplasms / Blood diseases',  # Adjust as needed\n",
    "            'E': 'Endocrine, nutritional and metabolic diseases',\n",
    "            'F': 'Mental and behavioural disorders',\n",
    "            'G': 'Diseases of the nervous system',\n",
    "            'H': 'Diseases of the eye and adnexa',\n",
    "            'I': 'Diseases of the circulatory system',\n",
    "            'J': 'Diseases of the respiratory system',\n",
    "            'K': 'Diseases of the digestive system',\n",
    "            'L': 'Diseases of the skin and subcutaneous tissue',\n",
    "            'M': 'Diseases of the musculoskeletal system and connective tissue',\n",
    "            'N': 'Diseases of the genitourinary system',\n",
    "            'O': 'Pregnancy, childbirth and the puerperium',\n",
    "            'P': 'Certain conditions originating in the perinatal period',\n",
    "            'Q': 'Congenital malformations, deformations and chromosomal abnormalities',\n",
    "            'R': 'Symptoms, signs and abnormal clinical findings',\n",
    "            'S': 'Injury, poisoning and certain other consequences of external causes',\n",
    "            'T': 'Injury, poisoning and certain other consequences of external causes',\n",
    "            'V': 'External causes of morbidity and mortality',\n",
    "            'W': 'External causes of morbidity and mortality',\n",
    "            'X': 'External causes of morbidity and mortality',\n",
    "            'Y': 'External causes of morbidity and mortality',\n",
    "            'Z': 'Factors influencing health status and contact with health services'\n",
    "        }\n",
    "        return mapping_icd10.get(icd_str[0], 'Other')\n",
    "    else:\n",
    "        # It's ICD-9. Reformat if necessary.\n",
    "        icd_str_reformatted = reformat_icd9(icd_str)\n",
    "        try:\n",
    "            # Convert the part before any decimal to a float.\n",
    "            code_num = float(icd_str_reformatted.split('.')[0])\n",
    "        except ValueError:\n",
    "            return 'Other'\n",
    "\n",
    "        # Map numeric ranges according to common ICD-9 groupings:\n",
    "        if 1 <= code_num <= 139:\n",
    "            return 'Infectious and parasitic diseases'\n",
    "        elif 140 <= code_num <= 239:\n",
    "            return 'Neoplasms'\n",
    "        elif 240 <= code_num <= 279:\n",
    "            return 'Endocrine, nutritional and metabolic diseases'\n",
    "        elif 280 <= code_num <= 289:\n",
    "            return 'Diseases of the blood and blood-forming organs'\n",
    "        elif 290 <= code_num <= 319:\n",
    "            return 'Mental disorders'\n",
    "        elif 320 <= code_num <= 389:\n",
    "            return 'Diseases of the nervous system and sense organs'\n",
    "        elif 390 <= code_num <= 459:\n",
    "            return 'Diseases of the circulatory system'\n",
    "        elif 460 <= code_num <= 519:\n",
    "            return 'Diseases of the respiratory system'\n",
    "        elif 520 <= code_num <= 579:\n",
    "            return 'Diseases of the digestive system'\n",
    "        elif 580 <= code_num <= 629:\n",
    "            return 'Diseases of the genitourinary system'\n",
    "        elif 630 <= code_num <= 677:\n",
    "            return 'Complications of pregnancy, childbirth and the puerperium'\n",
    "        elif 680 <= code_num <= 709:\n",
    "            return 'Diseases of the skin and subcutaneous tissue'\n",
    "        elif 710 <= code_num <= 739:\n",
    "            return 'Diseases of the musculoskeletal system and connective tissue'\n",
    "        elif 740 <= code_num <= 759:\n",
    "            return 'Congenital anomalies'\n",
    "        elif 760 <= code_num <= 779:\n",
    "            return 'Certain conditions originating in the perinatal period'\n",
    "        elif 780 <= code_num <= 789:\n",
    "            # Symptoms (ICD-9 780–789)\n",
    "            if code_num == 780:\n",
    "                return \"General symptoms\"\n",
    "            elif code_num == 781:\n",
    "                return \"Symptoms involving nervous and musculoskeletal systems\"\n",
    "            elif code_num == 782:\n",
    "                return \"Symptoms involving skin and other integumentary tissue\"\n",
    "            elif code_num == 783:\n",
    "                return \"Symptoms concerning nutrition metabolism and development\"\n",
    "            elif code_num == 784:\n",
    "                return \"Symptoms involving head and neck\"\n",
    "            elif code_num == 785:\n",
    "                return \"Symptoms involving cardiovascular system\"\n",
    "            elif code_num == 786:\n",
    "                return \"Symptoms involving respiratory system and other chest symptoms\"\n",
    "            elif code_num == 787:\n",
    "                return \"Symptoms involving digestive system\"\n",
    "            elif code_num == 788:\n",
    "                return \"Symptoms involving urinary system\"\n",
    "            elif code_num == 789:\n",
    "                return \"Other symptoms involving abdomen and pelvis\"\n",
    "        elif 790 <= code_num <= 796:\n",
    "            # Nonspecific abnormal findings (ICD-9 790–796)\n",
    "            if code_num == 790:\n",
    "                return \"Nonspecific findings on examination of blood\"\n",
    "            elif code_num == 791:\n",
    "                return \"Nonspecific findings on examination of urine\"\n",
    "            elif code_num == 792:\n",
    "                return \"Nonspecific abnormal findings in other body substances\"\n",
    "            elif code_num == 793:\n",
    "                return \"Nonspecific abnormal (findings) on radiological and other examination of body structure\"\n",
    "            elif code_num == 794:\n",
    "                return \"Nonspecific abnormal results of function studies\"\n",
    "            elif code_num == 795:\n",
    "                return \"Other and nonspecific abnormal cytological, histological, immunological, and dna test findings\"\n",
    "            elif code_num == 796:\n",
    "                return \"Other nonspecific abnormal findings\"\n",
    "        elif 797 <= code_num <= 799:\n",
    "            # Ill-defined and unknown causes of morbidity and mortality (ICD-9 797–799)\n",
    "            if code_num == 797:\n",
    "                return \"Senility without mention of psychosis\"\n",
    "            elif code_num == 798:\n",
    "                return \"Sudden death cause unknown\"\n",
    "            elif code_num == 799:\n",
    "                return \"Other ill-defined and unknown causes of morbidity and mortality\"\n",
    "        elif 800 <= code_num <= 999:\n",
    "            return 'Injury and poisoning'\n",
    "        else:\n",
    "            return 'Other'\n",
    "\n",
    "# Apply the function to your merged DataFrame (assuming the ICD code column is named 'icd_code')\n",
    "merged_df['icd_chapter_combined'] = merged_df['icd_code'].apply(infer_icd_chapter)\n",
    "\n",
    "# Check the distribution of the combined ICD chapters\n",
    "print(merged_df['icd_chapter_combined'].value_counts())\n"
   ]
  },
  {
   "cell_type": "code",
   "execution_count": null,
   "id": "0fa7f0bf-e761-481f-84f7-321d8136b023",
   "metadata": {
    "id": "0fa7f0bf-e761-481f-84f7-321d8136b023",
    "outputId": "724cb5d4-9f7b-469f-aa3b-ca0dfbbb45ae"
   },
   "outputs": [],
   "source": [
    "import matplotlib.pyplot as plt\n",
    "\n",
    "# Plot the distribution of ICD categories\n",
    "category_counts = merged_df['icd_chapter_combined'].value_counts()\n",
    "plt.figure(figsize=(10, 6))\n",
    "category_counts.plot(kind='bar', color='skyblue')\n",
    "plt.title('ICD Chapter Distribution')\n",
    "plt.xlabel('ICD Chapter')\n",
    "plt.ylabel('Count')\n",
    "plt.xticks(rotation=90)\n",
    "plt.show()"
   ]
  },
  {
   "cell_type": "code",
   "execution_count": null,
   "id": "94bbe588-7198-4f5d-a610-9f1fc9777f1a",
   "metadata": {
    "id": "94bbe588-7198-4f5d-a610-9f1fc9777f1a"
   },
   "outputs": [],
   "source": [
    "import matplotlib.pyplot as plt\n",
    "\n",
    "# Sample gender distribution data (replace with actual data)\n",
    "gender_counts = merged_df['gender'].value_counts()\n",
    "\n",
    "# Plot\n",
    "fig, ax = plt.subplots(figsize=(6, 4))\n",
    "bars = gender_counts.plot(kind='bar', ax=ax, color=['blue', 'pink'])\n",
    "\n",
    "# Add labels on top of bars\n",
    "for bar in bars.patches:\n",
    "    yval = bar.get_height()\n",
    "    ax.text(bar.get_x() + bar.get_width()/2, yval + 10, int(yval), ha='center', va='bottom')\n",
    "\n",
    "ax.set_title(\"Gender Distribution\")\n",
    "ax.set_xlabel(\"Gender\")\n",
    "ax.set_ylabel(\"Count\")\n",
    "\n",
    "plt.show()\n"
   ]
  },
  {
   "cell_type": "code",
   "execution_count": null,
   "id": "fab23d15-fa27-43a6-a790-7eb65aec775b",
   "metadata": {
    "scrolled": true
   },
   "outputs": [],
   "source": [
    "merged_df['chiefcomplaint'].value_counts().head(10)"
   ]
  },
  {
   "cell_type": "code",
   "execution_count": null,
   "id": "dc2f5d5e-753a-4304-a96b-132950552d18",
   "metadata": {},
   "outputs": [],
   "source": [
    "from wordcloud import WordCloud\n",
    "\n",
    "text = \" \".join(merged_df['chiefcomplaint'].dropna())\n",
    "wordcloud = WordCloud(width=800, height=400, background_color=\"white\").generate(text)\n",
    "\n",
    "plt.figure(figsize=(10, 5))\n",
    "plt.imshow(wordcloud, interpolation=\"bilinear\")\n",
    "plt.axis(\"off\")\n",
    "plt.show()\n"
   ]
  },
  {
   "cell_type": "code",
   "execution_count": null,
   "id": "fac35f94-3429-4e88-8286-c6c2bb779562",
   "metadata": {},
   "outputs": [],
   "source": [
    "import matplotlib.pyplot as plt\n",
    "\n",
    "# Define vitals list\n",
    "vitals = ['temperature', 'heartrate', 'resprate', 'o2sat', 'sbp', 'dbp']\n",
    "\n",
    "# Define optimal x-axis ranges for each vital based on typical clinical values\n",
    "vital_ranges = {\n",
    "    'temperature': (30, 45),   # Normal: 36-37.5°C, but allowing wider range for outliers\n",
    "    'heartrate': (30, 200),    # Normal: 60-100 bpm\n",
    "    'resprate': (5, 50),       # Normal: 12-20 breaths/min\n",
    "    'o2sat': (50, 100),        # Normal: 95-100%\n",
    "    'sbp': (50, 250),          # Normal: 90-120 mmHg\n",
    "    'dbp': (30, 150)           # Normal: 60-80 mmHg\n",
    "}\n",
    "\n",
    "# Define y-axis limit dynamically based on histogram frequencies\n",
    "fig, axes = plt.subplots(nrows=2, ncols=3, figsize=(15, 10))\n",
    "axes = axes.flatten()\n",
    "\n",
    "for i, vital in enumerate(vitals):\n",
    "    ax = axes[i]\n",
    "    \n",
    "    # Drop NaN values\n",
    "    data = merged_df[vital].dropna()\n",
    "    \n",
    "    # Plot histogram with adjusted x-axis limits\n",
    "    counts, bins, patches = ax.hist(data, bins=50, range=vital_ranges[vital], alpha=0.75, color='blue')\n",
    "    \n",
    "    # Adjust y-axis limit dynamically\n",
    "    ax.set_ylim(0, max(counts) * 1.1)\n",
    "    \n",
    "    ax.set_title(f\"{vital.capitalize()} Distribution\")\n",
    "    ax.set_xlabel(vital.capitalize())\n",
    "    ax.set_ylabel(\"Frequency\")\n",
    "\n",
    "plt.tight_layout()\n",
    "plt.show()\n"
   ]
  },
  {
   "cell_type": "code",
   "execution_count": null,
   "id": "f2d8e85b-15f8-4ec1-9de5-0071d2e37ce7",
   "metadata": {},
   "outputs": [],
   "source": [
    "# Sepsis or Severe Infection Risk - ICU patients with high fever + high heart rate + low BP\n",
    "sepsis_patients = merged_df[\n",
    "    (merged_df['temperature'] > 38.5) & \n",
    "    (merged_df['heartrate'] > 110) & \n",
    "    (merged_df['sbp'] < 90) &\n",
    "    (merged_df['stay_id'].notna())  # Ensure the patient has a valid stay_id\n",
    "]\n",
    "print(f\"Potential Sepsis Patients in ICU: {len(sepsis_patients)}\")"
   ]
  },
  {
   "cell_type": "code",
   "execution_count": null,
   "id": "f58810fe-6f20-43af-afa9-df564c4596db",
   "metadata": {},
   "outputs": [],
   "source": [
    "import matplotlib.pyplot as plt\n",
    "\n",
    "# Check if mimic_df is defined before running this\n",
    "if 'merged_df' in locals():\n",
    "    # Get top 10 prescribed medications\n",
    "    top_medications = merged_df['name'].value_counts().head(10)\n",
    "\n",
    "    # Plot the bar chart\n",
    "    fig, ax = plt.subplots(figsize=(10, 5))\n",
    "    bars = top_medications.plot(kind='bar', ax=ax, color='skyblue')\n",
    "\n",
    "    # Add labels on top of bars\n",
    "    for bar in bars.patches:\n",
    "        yval = bar.get_height()\n",
    "        ax.text(bar.get_x() + bar.get_width()/2, yval + 5, int(yval), ha='center', va='bottom')\n",
    "\n",
    "    ax.set_title(\"Top 10 Prescribed Medications\")\n",
    "    ax.set_xlabel(\"Drug\")\n",
    "    ax.set_ylabel(\"Count\")\n",
    "\n",
    "    plt.xticks(rotation=45)\n",
    "    plt.show()\n",
    "else:\n",
    "    print(\"Error: mimic_df is not defined. Please load the dataset first.\")"
   ]
  },
  {
   "cell_type": "code",
   "execution_count": null,
   "id": "8df97ca1-329c-4d06-ac59-83d3ce96264b",
   "metadata": {},
   "outputs": [],
   "source": [
    "print(circulatory_df['icd_title'].value_counts().head(20))  # Show top 20 circulatory disease names\n"
   ]
  },
  {
   "cell_type": "code",
   "execution_count": null,
   "id": "848a3aa8-5120-4377-a2c1-b46d42a8b360",
   "metadata": {},
   "outputs": [],
   "source": [
    "plt.figure(figsize=(12, 6))\n",
    "sns.violinplot(x=\"icd_title\", y=\"heartrate\", data=filtered_df)\n",
    "plt.xticks(rotation=45)\n",
    "plt.title(\"Heart Rate Distribution by ICD Diagnosis\")\n",
    "plt.xlabel(\"ICD Title\")\n",
    "plt.ylabel(\"Heart Rate\")\n",
    "plt.show()"
   ]
  },
  {
   "cell_type": "code",
   "execution_count": null,
   "id": "eb47cf24-5965-4b5f-bdfe-2f1248338ac9",
   "metadata": {},
   "outputs": [],
   "source": [
    "# Bar Plot: Mean Vitals per Diagnosis (Fixing X-Axis Labels)\n",
    "import seaborn as sns\n",
    "import matplotlib.pyplot as plt\n",
    "\n",
    "# Compute the average vitals per diagnosis (Top 10 diagnoses for readability)\n",
    "top_icd_titles = merged_df['icd_title'].value_counts().index[:10]  # Select top 10 most common ICD titles\n",
    "filtered_df = merged_df[merged_df['icd_title'].isin(top_icd_titles)]\n",
    "avg_vitals = filtered_df.groupby('icd_title')[['heartrate', 'sbp', 'dbp', 'o2sat', 'resprate', 'temperature']].mean().reset_index()\n",
    "\n",
    "# Plot bar chart for a selected vital sign (e.g., Heart Rate)\n",
    "plt.figure(figsize=(12, 6))\n",
    "ax = sns.barplot(x=\"icd_title\", y=\"heartrate\", data=avg_vitals, dodge=False)\n",
    "\n",
    "# Rotate x-axis labels for better alignment\n",
    "ax.set_xticklabels(ax.get_xticklabels(), rotation=45, ha=\"right\")\n",
    "\n",
    "# Add title and labels\n",
    "plt.title(\"Average Heart Rate by ICD Diagnosis\")\n",
    "plt.xlabel(\"ICD Title\")\n",
    "plt.ylabel(\"Heart Rate\")\n",
    "\n",
    "plt.show()"
   ]
  },
  {
   "cell_type": "markdown",
   "id": "56aa1586-7f7d-4783-910d-2c6b4a71e569",
   "metadata": {},
   "source": [
    "Clean ICD_Title"
   ]
  },
  {
   "cell_type": "code",
   "execution_count": null,
   "id": "b9f34b53-90f8-43d7-bad9-60e6e278f36a",
   "metadata": {},
   "outputs": [],
   "source": [
    "import pandas as pd\n",
    "import re\n",
    "\n",
    "# Function to clean icd_title by removing 'unspecified' and special characters\n",
    "def clean_icd_title(title):\n",
    "    if pd.isna(title):  # Check for NaN values\n",
    "        return \"\"\n",
    "    title = re.sub(r',?\\s*unspecified', '', title, flags=re.IGNORECASE)  # Remove 'unspecified' with optional comma\n",
    "    title = re.sub(r'[^a-zA-Z0-9\\s]', '', title)  # Remove all special characters except spaces\n",
    "    return title.strip()  # Remove leading/trailing spaces\n",
    "\n",
    "# Apply the function to clean 'icd_title'\n",
    "merged_df['icd_title'] = merged_df['icd_title'].apply(clean_icd_title)\n",
    "\n",
    "# Display unique cleaned values to verify\n",
    "#print(merged_df['icd_title'].unique())\n"
   ]
  },
  {
   "cell_type": "code",
   "execution_count": null,
   "id": "413b0a10-3bca-406e-a3d8-b1da398d87b8",
   "metadata": {},
   "outputs": [],
   "source": [
    "import matplotlib.pyplot as plt\n",
    "import seaborn as sns\n",
    "\n",
    "# Ensure 'icd_title' column is cleaned by removing 'unspecified' diagnoses\n",
    "merged_df['icd_title'] = merged_df['icd_title'].str.replace(r'unspecified', '', case=False, regex=True).str.strip()\n",
    "\n",
    "# Select the top 10 most common diagnoses after cleaning\n",
    "top_diagnoses = merged_df['icd_title'].value_counts().index[:10]\n",
    "\n",
    "# Filter dataset for only these diagnoses\n",
    "filtered_df = merged_df[merged_df['icd_title'].isin(top_diagnoses)]\n",
    "\n",
    "# Count occurrences of each diagnosis by gender\n",
    "diagnosis_gender_counts = filtered_df.groupby(['icd_title', 'gender']).size().unstack()\n",
    "\n",
    "# Define custom colors for Male & Female\n",
    "custom_colors = ['#1f77b4', '#ff7f0e']  # Blue for Male, Orange for Female\n",
    "\n",
    "# Plot stacked bar chart with custom colors\n",
    "fig, ax = plt.subplots(figsize=(12, 6))\n",
    "diagnosis_gender_counts.plot(kind='bar', stacked=True, color=custom_colors, ax=ax)\n",
    "\n",
    "# Formatting\n",
    "plt.title(\"Diagnosis Distribution by Gender (Top 10 Diagnoses)\")\n",
    "plt.xlabel(\"ICD Title (Diagnosis)\")\n",
    "plt.ylabel(\"Number of Cases\")\n",
    "plt.xticks(rotation=45, ha='right')\n",
    "plt.legend(title=\"Gender\")\n",
    "plt.grid(axis='y', linestyle='--', alpha=0.7)\n",
    "\n",
    "# Add value labels on top of bars\n",
    "for container in ax.containers:\n",
    "    ax.bar_label(container, fmt='%d', label_type='center', fontsize=10, color='white')\n",
    "\n",
    "# Show plot\n",
    "plt.show()\n"
   ]
  },
  {
   "cell_type": "code",
   "execution_count": null,
   "id": "5a2c37b0-6952-4517-b7a5-39da4a007b08",
   "metadata": {},
   "outputs": [],
   "source": []
  }
 ],
 "metadata": {
  "colab": {
   "provenance": []
  },
  "kernelspec": {
   "display_name": "Python 3 (ipykernel)",
   "language": "python",
   "name": "python3"
  },
  "language_info": {
   "codemirror_mode": {
    "name": "ipython",
    "version": 3
   },
   "file_extension": ".py",
   "mimetype": "text/x-python",
   "name": "python",
   "nbconvert_exporter": "python",
   "pygments_lexer": "ipython3",
   "version": "3.11.7"
  }
 },
 "nbformat": 4,
 "nbformat_minor": 5
}
